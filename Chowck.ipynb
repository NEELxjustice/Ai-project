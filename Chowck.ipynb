{
  "nbformat": 4,
  "nbformat_minor": 0,
  "metadata": {
    "colab": {
      "provenance": []
    },
    "kernelspec": {
      "name": "python3",
      "display_name": "Python 3"
    },
    "language_info": {
      "name": "python"
    }
  },
  "cells": [
    {
      "cell_type": "markdown",
      "source": [
        "📘 Project Title:\n",
        "\n",
        "   - Analyzing Real-World Data Using Benford’s Law\n",
        "\n",
        "👥 Team Members:\n",
        "\n",
        "  - Nilesh Nand Lal : nilesh.nandlal@adypu.edu.in\n",
        "  - Aditya Poddar : aditya.poddar@adypu.edu.in\n",
        "  - Ankit Singh : ankit.singh01@adypu.edu.in\n",
        "  - Ankit Kumar : ankit.kumar01@adypu.edu.in\n",
        "\n",
        "🎯 Project Objective:\n",
        "\n",
        "The objective of this project is to explore the application of Benford’s Law on real-world numerical datasets and determine whether the distribution of leading digits conforms to the expected logarithmic pattern. By doing so, we aim to better understand the natural occurrence of digit patterns in authentic datasets and recognize its potential use in detecting anomalies or fraud in data.\n",
        "\n",
        "\n",
        "💡 Key Insights:\n",
        "\n",
        "\t •\tBenford’s Law states that in many naturally occurring datasets, the number 1 appears as the leading digit about 30% of the time, much more often than higher digits.\n",
        "\n",
        "\t •\tWe tested this law using datasets such as population numbers, financial figures, and election data.\n",
        "\n",
        "\t •\tThe analysis showed that most datasets aligned closely with the expected distribution, validating Benford’s Law.\n",
        "   \n",
        "\t •\tSmall deviations from the law in certain subsets highlighted areas where data manipulation or inconsistencies might be present, demonstrating its practical utility in fraud detection and data integrity verification.\n"
      ],
      "metadata": {
        "id": "SHFSa0WTbsUQ"
      }
    },
    {
      "cell_type": "markdown",
      "source": [],
      "metadata": {
        "id": "odxm2M6zbqPo"
      }
    },
    {
      "cell_type": "markdown",
      "source": [],
      "metadata": {
        "id": "yESIV3uRbo99"
      }
    },
    {
      "cell_type": "code",
      "source": [
        "from google.colab import files\n",
        "upload=files.upload()"
      ],
      "metadata": {
        "colab": {
          "base_uri": "https://localhost:8080/",
          "height": 73
        },
        "id": "rNyYpPVic2Dl",
        "outputId": "ba26b5e1-23b7-46ba-c06f-8a4f7a99393e"
      },
      "execution_count": 15,
      "outputs": [
        {
          "output_type": "display_data",
          "data": {
            "text/plain": [
              "<IPython.core.display.HTML object>"
            ],
            "text/html": [
              "\n",
              "     <input type=\"file\" id=\"files-59995616-9ff1-4d88-8592-1f8a7cc5827c\" name=\"files[]\" multiple disabled\n",
              "        style=\"border:none\" />\n",
              "     <output id=\"result-59995616-9ff1-4d88-8592-1f8a7cc5827c\">\n",
              "      Upload widget is only available when the cell has been executed in the\n",
              "      current browser session. Please rerun this cell to enable.\n",
              "      </output>\n",
              "      <script>// Copyright 2017 Google LLC\n",
              "//\n",
              "// Licensed under the Apache License, Version 2.0 (the \"License\");\n",
              "// you may not use this file except in compliance with the License.\n",
              "// You may obtain a copy of the License at\n",
              "//\n",
              "//      http://www.apache.org/licenses/LICENSE-2.0\n",
              "//\n",
              "// Unless required by applicable law or agreed to in writing, software\n",
              "// distributed under the License is distributed on an \"AS IS\" BASIS,\n",
              "// WITHOUT WARRANTIES OR CONDITIONS OF ANY KIND, either express or implied.\n",
              "// See the License for the specific language governing permissions and\n",
              "// limitations under the License.\n",
              "\n",
              "/**\n",
              " * @fileoverview Helpers for google.colab Python module.\n",
              " */\n",
              "(function(scope) {\n",
              "function span(text, styleAttributes = {}) {\n",
              "  const element = document.createElement('span');\n",
              "  element.textContent = text;\n",
              "  for (const key of Object.keys(styleAttributes)) {\n",
              "    element.style[key] = styleAttributes[key];\n",
              "  }\n",
              "  return element;\n",
              "}\n",
              "\n",
              "// Max number of bytes which will be uploaded at a time.\n",
              "const MAX_PAYLOAD_SIZE = 100 * 1024;\n",
              "\n",
              "function _uploadFiles(inputId, outputId) {\n",
              "  const steps = uploadFilesStep(inputId, outputId);\n",
              "  const outputElement = document.getElementById(outputId);\n",
              "  // Cache steps on the outputElement to make it available for the next call\n",
              "  // to uploadFilesContinue from Python.\n",
              "  outputElement.steps = steps;\n",
              "\n",
              "  return _uploadFilesContinue(outputId);\n",
              "}\n",
              "\n",
              "// This is roughly an async generator (not supported in the browser yet),\n",
              "// where there are multiple asynchronous steps and the Python side is going\n",
              "// to poll for completion of each step.\n",
              "// This uses a Promise to block the python side on completion of each step,\n",
              "// then passes the result of the previous step as the input to the next step.\n",
              "function _uploadFilesContinue(outputId) {\n",
              "  const outputElement = document.getElementById(outputId);\n",
              "  const steps = outputElement.steps;\n",
              "\n",
              "  const next = steps.next(outputElement.lastPromiseValue);\n",
              "  return Promise.resolve(next.value.promise).then((value) => {\n",
              "    // Cache the last promise value to make it available to the next\n",
              "    // step of the generator.\n",
              "    outputElement.lastPromiseValue = value;\n",
              "    return next.value.response;\n",
              "  });\n",
              "}\n",
              "\n",
              "/**\n",
              " * Generator function which is called between each async step of the upload\n",
              " * process.\n",
              " * @param {string} inputId Element ID of the input file picker element.\n",
              " * @param {string} outputId Element ID of the output display.\n",
              " * @return {!Iterable<!Object>} Iterable of next steps.\n",
              " */\n",
              "function* uploadFilesStep(inputId, outputId) {\n",
              "  const inputElement = document.getElementById(inputId);\n",
              "  inputElement.disabled = false;\n",
              "\n",
              "  const outputElement = document.getElementById(outputId);\n",
              "  outputElement.innerHTML = '';\n",
              "\n",
              "  const pickedPromise = new Promise((resolve) => {\n",
              "    inputElement.addEventListener('change', (e) => {\n",
              "      resolve(e.target.files);\n",
              "    });\n",
              "  });\n",
              "\n",
              "  const cancel = document.createElement('button');\n",
              "  inputElement.parentElement.appendChild(cancel);\n",
              "  cancel.textContent = 'Cancel upload';\n",
              "  const cancelPromise = new Promise((resolve) => {\n",
              "    cancel.onclick = () => {\n",
              "      resolve(null);\n",
              "    };\n",
              "  });\n",
              "\n",
              "  // Wait for the user to pick the files.\n",
              "  const files = yield {\n",
              "    promise: Promise.race([pickedPromise, cancelPromise]),\n",
              "    response: {\n",
              "      action: 'starting',\n",
              "    }\n",
              "  };\n",
              "\n",
              "  cancel.remove();\n",
              "\n",
              "  // Disable the input element since further picks are not allowed.\n",
              "  inputElement.disabled = true;\n",
              "\n",
              "  if (!files) {\n",
              "    return {\n",
              "      response: {\n",
              "        action: 'complete',\n",
              "      }\n",
              "    };\n",
              "  }\n",
              "\n",
              "  for (const file of files) {\n",
              "    const li = document.createElement('li');\n",
              "    li.append(span(file.name, {fontWeight: 'bold'}));\n",
              "    li.append(span(\n",
              "        `(${file.type || 'n/a'}) - ${file.size} bytes, ` +\n",
              "        `last modified: ${\n",
              "            file.lastModifiedDate ? file.lastModifiedDate.toLocaleDateString() :\n",
              "                                    'n/a'} - `));\n",
              "    const percent = span('0% done');\n",
              "    li.appendChild(percent);\n",
              "\n",
              "    outputElement.appendChild(li);\n",
              "\n",
              "    const fileDataPromise = new Promise((resolve) => {\n",
              "      const reader = new FileReader();\n",
              "      reader.onload = (e) => {\n",
              "        resolve(e.target.result);\n",
              "      };\n",
              "      reader.readAsArrayBuffer(file);\n",
              "    });\n",
              "    // Wait for the data to be ready.\n",
              "    let fileData = yield {\n",
              "      promise: fileDataPromise,\n",
              "      response: {\n",
              "        action: 'continue',\n",
              "      }\n",
              "    };\n",
              "\n",
              "    // Use a chunked sending to avoid message size limits. See b/62115660.\n",
              "    let position = 0;\n",
              "    do {\n",
              "      const length = Math.min(fileData.byteLength - position, MAX_PAYLOAD_SIZE);\n",
              "      const chunk = new Uint8Array(fileData, position, length);\n",
              "      position += length;\n",
              "\n",
              "      const base64 = btoa(String.fromCharCode.apply(null, chunk));\n",
              "      yield {\n",
              "        response: {\n",
              "          action: 'append',\n",
              "          file: file.name,\n",
              "          data: base64,\n",
              "        },\n",
              "      };\n",
              "\n",
              "      let percentDone = fileData.byteLength === 0 ?\n",
              "          100 :\n",
              "          Math.round((position / fileData.byteLength) * 100);\n",
              "      percent.textContent = `${percentDone}% done`;\n",
              "\n",
              "    } while (position < fileData.byteLength);\n",
              "  }\n",
              "\n",
              "  // All done.\n",
              "  yield {\n",
              "    response: {\n",
              "      action: 'complete',\n",
              "    }\n",
              "  };\n",
              "}\n",
              "\n",
              "scope.google = scope.google || {};\n",
              "scope.google.colab = scope.google.colab || {};\n",
              "scope.google.colab._files = {\n",
              "  _uploadFiles,\n",
              "  _uploadFilesContinue,\n",
              "};\n",
              "})(self);\n",
              "</script> "
            ]
          },
          "metadata": {}
        },
        {
          "output_type": "stream",
          "name": "stdout",
          "text": [
            "Saving crime_dataset.csv to crime_dataset (2).csv\n"
          ]
        }
      ]
    },
    {
      "cell_type": "code",
      "source": [
        "import pandas as pd\n",
        "\n",
        "df=pd.read_csv(\"crime_dataset.csv\")\n",
        "# print(df)\n",
        "# print(df.head())"
      ],
      "metadata": {
        "id": "gHssIuv6V1Z6"
      },
      "execution_count": 16,
      "outputs": []
    },
    {
      "cell_type": "code",
      "source": [
        "df.columns"
      ],
      "metadata": {
        "colab": {
          "base_uri": "https://localhost:8080/",
          "height": 0
        },
        "id": "MDyEDvqdWJEl",
        "outputId": "58100109-3145-434c-f36c-9b000e7ae369"
      },
      "execution_count": 17,
      "outputs": [
        {
          "output_type": "execute_result",
          "data": {
            "text/plain": [
              "Index(['S. No', 'Crime Head', 'Cases Pending Investigation from Previous Year',\n",
              "       'Cases Reported during the year', 'Cases Reopened for Investigation',\n",
              "       'Total Cases for Investigation (Col.3+ Col.4+ Col.5)',\n",
              "       'Cases Not Investigated Under 157_1_b CRPC',\n",
              "       'Cases Transferred to other State or Agency',\n",
              "       'Cases Withdrawn by the Govt during investigation',\n",
              "       'Final Report - Cases Ended as FR Non Cognizable',\n",
              "       'Final Report - Cases Ended as Final Report False',\n",
              "       'Final Report - Cases Ended as Mistake of Fact or of Law or Civil Dispute',\n",
              "       'Final Report - Cases True but Insufficient Evidence or Untraced or No Clue',\n",
              "       'Final Report - Cases Abated during Investigation',\n",
              "       'Final Report - Total (Col.10+ Col.11+ Col.12+ Col.13+ Col.14)',\n",
              "       'Chargesheets submitted - Cases Chargesheeted Out of Cases from Previous Year',\n",
              "       'Chargesheets submitted - Cases Chargesheeted Out of Cases during the Year',\n",
              "       'Chargesheets submitted - Cases Chargesheeted (Col.16+ Col.17)',\n",
              "       'Total Cases Disposed Off by Police (Col.7+ Col.8+ Col.15+ Col.18)',\n",
              "       'Cases Quashed at Investigation Stage',\n",
              "       'Cases Stayed at Investigation Stage',\n",
              "       'Cases Pending Investigation at End of the Year (Col.6- Col.9- Col.19- Col.20)',\n",
              "       'Charge-Sheeting Rate (Col.18/ Col.19) *100',\n",
              "       'Pendency Percentage (Col.22/ Col.6) *100'],\n",
              "      dtype='object')"
            ]
          },
          "metadata": {},
          "execution_count": 17
        }
      ]
    },
    {
      "cell_type": "code",
      "source": [
        "\n",
        "numbers = df['Total Cases for Investigation (Col.3+ Col.4+ Col.5)'].dropna().astype(str)\n",
        "\n",
        "# Extract the first non-zero digit\n",
        "first_digits = numbers.str.lstrip('0').str.extract(r'(\\d)').dropna().astype(int)\n",
        "digit_counts = first_digits[0].value_counts().sort_index()\n",
        "\n",
        "# Convert to percentages\n",
        "digit_distribution = digit_counts / digit_counts.sum() * 100\n",
        "\n",
        "# Expected Benford's Law distribution\n",
        "import numpy as np\n",
        "benford_dist = [np.log10(1 + 1/d) * 100 for d in range(1, 10)]\n",
        "\n",
        "# Plot the graph\n",
        "import matplotlib.pyplot as plt\n",
        "\n",
        "digits = range(1, 10)\n",
        "plt.figure(figsize=(10,6))\n",
        "plt.bar(digits, digit_distribution, width=0.4, label='Observed', align='center')\n",
        "plt.plot(digits, benford_dist, 'r--', marker='o', label=\"Benford's Law\")\n",
        "\n",
        "plt.xlabel('Leading Digit')\n",
        "plt.ylabel('Percentage')\n",
        "plt.title(\"Benford's Law Analysis of Crime Data\")\n",
        "plt.xticks(digits)\n",
        "plt.legend()\n",
        "plt.grid(True)\n",
        "plt.show()"
      ],
      "metadata": {
        "colab": {
          "base_uri": "https://localhost:8080/",
          "height": 564
        },
        "id": "pH0R4xaBV1qs",
        "outputId": "953b028f-4650-4c86-aed0-a341ed1d8579"
      },
      "execution_count": 18,
      "outputs": [
        {
          "output_type": "display_data",
          "data": {
            "text/plain": [
              "<Figure size 1000x600 with 1 Axes>"
            ],
            "image/png": "[encoded data removed]"
          },
          "metadata": {}
        }
      ]
    },
    {
      "cell_type": "code",
      "source": [],
      "metadata": {
        "id": "dJU47VRMXj6d"
      },
      "execution_count": null,
      "outputs": []
    },
    {
      "cell_type": "markdown",
      "source": [
        "| Team Members | Contribution                                                                                      |\n",
        "|--------------|---------------------------------------------------------------------------------------------------|\n",
        "| Nilesh Nand Lal     | • Select datasets suitable for Benford’s Law (e.g., financial records, population data, election results).<br>• Clean the data (remove missing values, ensure numerical format).<br>• Extract the leading digits for analysis. |\n",
        "| Aditya Poddar          | • Calculate the frequency distribution of the first digits (1–9).<br>• Compare observed distribution with expected Benford distribution.<br>• Create graphs (bar plots or histograms) to visualize differences.                |\n",
        "| Ankit Singh     | • Interpret whether the data follows Benford’s Law using statistical tests (e.g., chi-square test).<br>• Explain reasons for conformity or deviation.<br>• Write the project report.                                           |\n",
        "| Ankit Kumar  | • Made a full presentation and wrote every team member contribution        and Analysis of data of Benford's Law                                                                                           |"
      ],
      "metadata": {
        "id": "GIvdVUGlXk21"
      }
    },
    {
      "cell_type": "markdown",
      "source": [],
      "metadata": {
        "id": "06HMlp_BblcY"
      }
    }
  ]
}